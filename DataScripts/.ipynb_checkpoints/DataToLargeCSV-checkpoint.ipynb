{
 "cells": [
  {
   "cell_type": "code",
   "execution_count": 14,
   "metadata": {},
   "outputs": [],
   "source": [
    "import os\n",
    "import pandas as pd\n",
    "import numpy as np\n",
    "from sqlalchemy import create_engine\n",
    "from postgreSQLpassword import passW\n",
    "import time"
   ]
  },
  {
   "cell_type": "code",
   "execution_count": 15,
   "metadata": {},
   "outputs": [],
   "source": [
    "EcoBiciDf = pd.DataFrame(columns=['Genero_Usuario' , 'Edad_Usuario' , 'Bici' , 'Ciclo_Estacion_Retiro' , 'Fecha_Retiro' , 'Hora_Retiro' , 'Ciclo_Estacion_Arribo' , 'Fecha_Arribo' , 'Hora_Arribo'])"
   ]
  },
  {
   "cell_type": "code",
   "execution_count": 16,
   "metadata": {},
   "outputs": [
    {
     "name": "stdout",
     "output_type": "stream",
     "text": [
      "File ./EcoBiciData/Trips/2010-01.csv does not exist!\n",
      "File ./EcoBiciData/Trips/2010-02.csv successfully added to SQL database!\n",
      "File ./EcoBiciData/Trips/2010-03.csv successfully added to SQL database!\n",
      "File ./EcoBiciData/Trips/2010-04.csv successfully added to SQL database!\n",
      "File ./EcoBiciData/Trips/2010-05.csv successfully added to SQL database!\n",
      "File ./EcoBiciData/Trips/2010-06.csv successfully added to SQL database!\n",
      "File ./EcoBiciData/Trips/2010-07.csv successfully added to SQL database!\n",
      "File ./EcoBiciData/Trips/2010-08.csv successfully added to SQL database!\n",
      "File ./EcoBiciData/Trips/2010-09.csv successfully added to SQL database!\n",
      "File ./EcoBiciData/Trips/2010-10.csv successfully added to SQL database!\n",
      "File ./EcoBiciData/Trips/2010-11.csv successfully added to SQL database!\n",
      "File ./EcoBiciData/Trips/2010-12.csv successfully added to SQL database!\n",
      "File ./EcoBiciData/Trips/2011-01.csv successfully added to SQL database!\n",
      "File ./EcoBiciData/Trips/2011-02.csv successfully added to SQL database!\n",
      "File ./EcoBiciData/Trips/2011-03.csv successfully added to SQL database!\n",
      "File ./EcoBiciData/Trips/2011-04.csv successfully added to SQL database!\n",
      "File ./EcoBiciData/Trips/2011-05.csv successfully added to SQL database!\n",
      "File ./EcoBiciData/Trips/2011-06.csv successfully added to SQL database!\n",
      "File ./EcoBiciData/Trips/2011-07.csv successfully added to SQL database!\n",
      "File ./EcoBiciData/Trips/2011-08.csv successfully added to SQL database!\n",
      "File ./EcoBiciData/Trips/2011-09.csv successfully added to SQL database!\n",
      "File ./EcoBiciData/Trips/2011-10.csv successfully added to SQL database!\n",
      "File ./EcoBiciData/Trips/2011-11.csv successfully added to SQL database!\n",
      "File ./EcoBiciData/Trips/2011-12.csv successfully added to SQL database!\n",
      "File ./EcoBiciData/Trips/2012-01.csv successfully added to SQL database!\n",
      "File ./EcoBiciData/Trips/2012-02.csv successfully added to SQL database!\n",
      "File ./EcoBiciData/Trips/2012-03.csv successfully added to SQL database!\n",
      "File ./EcoBiciData/Trips/2012-04.csv successfully added to SQL database!\n",
      "File ./EcoBiciData/Trips/2012-05.csv successfully added to SQL database!\n",
      "File ./EcoBiciData/Trips/2012-06.csv successfully added to SQL database!\n",
      "File ./EcoBiciData/Trips/2012-07.csv successfully added to SQL database!\n",
      "File ./EcoBiciData/Trips/2012-08.csv successfully added to SQL database!\n",
      "File ./EcoBiciData/Trips/2012-09.csv successfully added to SQL database!\n",
      "File ./EcoBiciData/Trips/2012-10.csv successfully added to SQL database!\n",
      "File ./EcoBiciData/Trips/2012-11.csv successfully added to SQL database!\n",
      "File ./EcoBiciData/Trips/2012-12.csv successfully added to SQL database!\n"
     ]
    }
   ],
   "source": [
    "months=[str(x) for x in range(1,13)]\n",
    "years=[str(x) for x in range(2010,2013)]\n",
    "\n",
    "EcoBiciDf = pd.DataFrame(columns=['Genero_Usuario' , 'Edad_Usuario' , 'Bici' , 'Ciclo_Estacion_Retiro' , 'Fecha_Retiro' , 'Hora_Retiro' , 'Ciclo_Estacion_Arribo' , 'Fecha_Arribo' , 'Hora_Arribo'])\n",
    "\n",
    "for yr in years:\n",
    "    for mo in months:\n",
    "        if int(mo)<10:\n",
    "            filedir=f'./EcoBiciData/Trips/{yr}-0{mo}.csv'\n",
    "        else:\n",
    "            filedir=f'./EcoBiciData/Trips/{yr}-{mo}.csv'\n",
    "        \n",
    "        try:\n",
    "            tempDf=pd.read_csv(filedir, low_memory=False)\n",
    "            EcoBiciDf=EcoBiciDf.append(tempDf, ignore_index=True)\n",
    "            print(f'File {filedir} successfully added to SQL database!')\n",
    "        except:\n",
    "            print(f'File {filedir} does not exist!')\n",
    "\n",
    "EcoBiciDf=EcoBiciDf.rename(str.lower, axis='columns')\n",
    "EcoBiciDf.to_csv('EcoBici2010-2012.csv',index=False)"
   ]
  },
  {
   "cell_type": "code",
   "execution_count": null,
   "metadata": {},
   "outputs": [],
   "source": []
  }
 ],
 "metadata": {
  "kernelspec": {
   "display_name": "Python 3",
   "language": "python",
   "name": "python3"
  },
  "language_info": {
   "codemirror_mode": {
    "name": "ipython",
    "version": 3
   },
   "file_extension": ".py",
   "mimetype": "text/x-python",
   "name": "python",
   "nbconvert_exporter": "python",
   "pygments_lexer": "ipython3",
   "version": "3.6.9"
  }
 },
 "nbformat": 4,
 "nbformat_minor": 4
}
